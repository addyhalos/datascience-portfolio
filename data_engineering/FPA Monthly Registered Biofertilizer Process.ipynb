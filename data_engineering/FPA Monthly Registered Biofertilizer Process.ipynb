{
 "cells": [
  {
   "cell_type": "markdown",
   "id": "c7a32b15",
   "metadata": {},
   "source": [
    "# FPA Monthly Registered Biofertilizer Report\n",
    "\n",
    "This report allows visibility over current registered azospirillum-based products and their product descriptions in the Philippines. It is sent via email automatically on a monthly basis.\n",
    "\n",
    "## Main Elements\n",
    "\n",
    "1. Data Source: https://fpa.da.gov.ph/resources/reports/registered-products/\n",
    "2. Google App Script - Scheduled monthly script that connects to the data source, extracts the data, loads into a google sheet, and sends the contents as an email to certain recepients\n",
    "3. Google Sheet (https://docs.google.com/spreadsheets/d/1NqiBb-F2IMIOAj8JbPxfKXF0mF4sxVinqdVSo009dcg/edit?usp=sharing)\n",
    "4. Automated Email\n",
    "\n",
    "\n",
    "## Process Map\n",
    "\n",
    "### 1. Data extraction from the FPA website"
   ]
  },
  {
   "cell_type": "code",
   "execution_count": null,
   "id": "a8bbeea5",
   "metadata": {
    "vscode": {
     "languageId": "javascript"
    }
   },
   "outputs": [],
   "source": [
    "// 1. Fetch the HTML of the FPA product listing page\n",
    "  const url = 'https://fpa.da.gov.ph/resources/reports/registered-products/';\n",
    "  const html = UrlFetchApp.fetch(url).getContentText();\n",
    "  Logger.log(\"Fetched page HTML length: \" + html.length);\n",
    "  \n",
    "  // 2. Find the latest XLSX link\n",
    "  const match = html.match(/https:\\/\\/fpa\\.da\\.gov\\.ph\\/wp-content\\/uploads\\/[0-9]{4}\\/[0-9]{2}\\/FOR-POSTING_FERTILIZER_PRODUCT_LISTING_AS_OF_[^\"']+\\.xlsx/);\n",
    "  if (!match) throw new Error(\"No XLSX link found on page\");\n",
    "  const xlsxUrl = match[0];\n",
    "  Logger.log(\"Found XLSX URL: \" + xlsxUrl);\n",
    "  \n",
    "  // 3. Download the XLSX file\n",
    "  const blob = UrlFetchApp.fetch(xlsxUrl).getBlob();\n",
    "  const tempFile = DriveApp.createFile(blob).setName(\"temp_fertilizer.xlsx\");\n",
    "  Logger.log(\"Temp XLSX saved to Drive: \" + tempFile.getId());"
   ]
  },
  {
   "cell_type": "markdown",
   "id": "ce6548b3",
   "metadata": {},
   "source": [
    "### 2. Load extracted data into the Google Sheet"
   ]
  },
  {
   "cell_type": "code",
   "execution_count": null,
   "id": "bac2bf70",
   "metadata": {
    "vscode": {
     "languageId": "javascript"
    }
   },
   "outputs": [],
   "source": [
    " // 4. Convert to a temporary Google Sheet\n",
    "  const convertedFile = Drive.Files.copy(\n",
    "  { title: tempFile.getName(), mimeType: MimeType.GOOGLE_SHEETS },\n",
    "  tempFile.getId(),\n",
    "  { convert: true }\n",
    "  );\n",
    "  Logger.log(\"Converted file ID: \" + convertedFile.id);\n",
    "  Logger.log(\"Converted MIME type: \" + convertedFile.getMimeType());\n",
    "\n",
    "  // 5. Wait until the sheet is ready\n",
    "  const sheetFile = waitForSheet(convertedFile.id, 10); // retry up to 10 times\n",
    "  const sourceSheet = sheetFile.getSheets()[0];\n",
    "  sourceSheet.deleteRows(1, 6);\n",
    "  \n",
    "  // 6. Read data\n",
    "  const data = sourceSheet.getDataRange().getValues();\n",
    "  \n",
    "  // 7. Find column index for Guaranteed Analysis\n",
    "  const header = data[0].map(h => h.toString().trim().toLowerCase());\n",
    "  const guaranteedIndex = header.indexOf(\"guaranteed analysis\");\n",
    "  if (guaranteedIndex === -1) throw new Error(\"Guaranteed Analysis column not found\");\n",
    "  \n",
    "  // 8. Filter rows that contain Azospirillum\n",
    "  const filtered = data.filter((row, idx) => {\n",
    "    if (idx === 0) return true; // keep header\n",
    "    return row[guaranteedIndex].toString().toLowerCase().includes(\"azospirillum\");\n",
    "  });\n",
    "  \n",
    "  // 9. Paste to target sheet\n",
    "  const target = SpreadsheetApp.openById(TARGET_SHEET_ID).getSheets()[0];\n",
    "  target.clearContents();\n",
    "  target.getRange(1, 1, filtered.length, filtered[0].length).setValues(filtered);\n",
    "  \n",
    "  // 10. Clean up temp file\n",
    "  DriveApp.getFileById(tempFile.getId()).setTrashed(true);\n",
    "  DriveApp.getFileById(convertedFile.id).setTrashed(true);\n",
    "  \n",
    "  Logger.log(\"Imported \" + (filtered.length - 1) + \" Azospirillum products\");\n",
    "\n",
    "  Logger.log(\"Filtered Azospirillum data imported successfully.\");\n"
   ]
  },
  {
   "cell_type": "markdown",
   "id": "77571daa",
   "metadata": {},
   "source": [
    "### 3. Send contents via email as both HTML and attached Excel File"
   ]
  },
  {
   "cell_type": "code",
   "execution_count": null,
   "id": "5535bb6e",
   "metadata": {
    "vscode": {
     "languageId": "javascript"
    }
   },
   "outputs": [],
   "source": [
    "  const TARGET_SHEET_ID = '1NqiBb-F2IMIOAj8JbPxfKXF0mF4sxVinqdVSo009dcg';\n",
    "  const sheetName = 'Sheet1'; // Sheet name\n",
    "  const recipients = ['xxx@gmail.com','yyy@gmail.com','zzz@gmail.com']; // recepients\n",
    "\n",
    "  const ss = SpreadsheetApp.openById(TARGET_SHEET_ID);\n",
    "  const sheet = ss.getSheetByName(sheetName);\n",
    "  const data = sheet.getDataRange().getValues();\n",
    "\n",
    "  //11. Convert to HTML table for email body\n",
    "  let htmlTable = '<table border=\"1\" cellpadding=\"5\" cellspacing=\"0\" style=\"border-collapse:collapse;\">';\n",
    "  data.forEach(row => {\n",
    "    htmlTable += '<tr>';\n",
    "    row.forEach(cell => {\n",
    "      htmlTable += `<td>${cell || ''}</td>`;\n",
    "    });\n",
    "    htmlTable += '</tr>';\n",
    "  });\n",
    "  htmlTable += '</table>';\n",
    "\n",
    "  //12. Create temporary Excel file\n",
    "  const tempSs = SpreadsheetApp.create(\"Temp Azospirillum Data\");\n",
    "  tempSs.getSheets()[0].getRange(1, 1, data.length, data[0].length).setValues(data);\n",
    "  const tempFileId = tempSs.getId();\n",
    "  Utilities.sleep(2000); // wait 2 seconds\n",
    "  const file = DriveApp.getFileById(tempFileId);\n",
    "  const xlsxBlob = file.getBlob();\n",
    "  xlsxBlob.setName(\"Azospirillum_Report.xlsx\");\n",
    "\n",
    "  //13. Send email with HTML body and Excel attachment\n",
    "  MailApp.sendEmail({\n",
    "    to: recipients.join(','),\n",
    "    subject: \"Azospirillum Report\",\n",
    "    htmlBody: `<p>Here is the latest Azospirillum report:</p>${htmlTable}`,\n",
    "    attachments: [xlsxBlob]\n",
    "  });\n",
    "\n",
    "  //14. Clean up temp file\n",
    "  DriveApp.getFileById(tempFileId).setTrashed(true);"
   ]
  }
 ],
 "metadata": {
  "language_info": {
   "name": "python"
  }
 },
 "nbformat": 4,
 "nbformat_minor": 5
}
